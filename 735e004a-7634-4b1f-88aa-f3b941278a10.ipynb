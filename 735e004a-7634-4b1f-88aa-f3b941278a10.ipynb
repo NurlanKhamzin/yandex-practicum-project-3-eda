{
 "cells": [
  {
   "cell_type": "markdown",
   "metadata": {},
   "source": [
    "<div style=\"border:solid green 2px; padding: 20px\">\n",
    "<b>Нурлан, привет!</b>\n",
    "\n",
    "Меня зовут Евгений Дащенко, и я буду проверять твой проект. Предлагаю общаться на «ты» 😊 Но если это не удобно - дай знать, и мы перейдем на \"вы\". \n",
    "\n",
    "Моя основная цель — не указать на совершенные тобою ошибки, а поделиться своим опытом и помочь тебе стать аналитиком данных. Ты уже проделал большую работу над проектом, но давай сделаем его еще лучше. Ниже ты найдешь мои комментарии - пожалуйста, не перемещай, не изменяй и не удаляй их. Я буду использовать цветовую разметку:\n",
    "\n",
    "<div class=\"alert alert-danger\">\n",
    "<b>Критическая ошибка:</b> Так выделены самые важные замечания. Без их отработки проект не будет принят. </div>\n",
    "\n",
    "<div class=\"alert alert-warning\">\n",
    "<b>Хорошо, но можно и лучше:</b> Так выделены небольшие замечания. Одна-два таких замечания в проекте допустимы, но если их будет больше - тебе будет необходимо внести исправления. Это как тестовое задание при приеме на работу: очень много мелких ошибок могут стать причиной отказа кандидату. \n",
    "\n",
    "</div>\n",
    "\n",
    "<div class=\"alert alert-success\">\n",
    "<b>Все отлично:</b> Так я выделяю все остальные комментарии.</div>\n",
    "\n",
    "Давай работать над проектом в диалоге: если ты что-то меняешь в проекте или отвечаешь на мои комменатри — пиши об этом. Мне будет легче отследить изменения, если ты выделишь свои комментарии:\n",
    "<div class=\"alert alert-info\"> <b>Комментарий студента:</b> Например, вот так.</div>\n",
    "\n",
    "Всё это поможет выполнить повторную проверку твоего проекта оперативнее. "
   ]
  },
  {
   "cell_type": "markdown",
   "metadata": {
    "toc": true
   },
   "source": [
    "<h1>Содержание<span class=\"tocSkip\"></span></h1>\n",
    "<div class=\"toc\"><ul class=\"toc-item\"><li><span><a href=\"#Изучение-данных-из-файла\" data-toc-modified-id=\"Изучение-данных-из-файла-1\"><span class=\"toc-item-num\">1&nbsp;&nbsp;</span>Изучение данных из файла</a></span><ul class=\"toc-item\"><li><span><a href=\"#Вывод\" data-toc-modified-id=\"Вывод-1.1\"><span class=\"toc-item-num\">1.1&nbsp;&nbsp;</span>Вывод</a></span></li></ul></li><li><span><a href=\"#Предобработка-данных\" data-toc-modified-id=\"Предобработка-данных-2\"><span class=\"toc-item-num\">2&nbsp;&nbsp;</span>Предобработка данных</a></span></li><li><span><a href=\"#Расчёты-и-добавление-результатов-в-таблицу\" data-toc-modified-id=\"Расчёты-и-добавление-результатов-в-таблицу-3\"><span class=\"toc-item-num\">3&nbsp;&nbsp;</span>Расчёты и добавление результатов в таблицу</a></span></li><li><span><a href=\"#Исследовательский-анализ-данных\" data-toc-modified-id=\"Исследовательский-анализ-данных-4\"><span class=\"toc-item-num\">4&nbsp;&nbsp;</span>Исследовательский анализ данных</a></span></li><li><span><a href=\"#Общий-вывод\" data-toc-modified-id=\"Общий-вывод-5\"><span class=\"toc-item-num\">5&nbsp;&nbsp;</span>Общий вывод</a></span></li><li><span><a href=\"#Чек-лист-готовности-проекта\" data-toc-modified-id=\"Чек-лист-готовности-проекта-6\"><span class=\"toc-item-num\">6&nbsp;&nbsp;</span>Чек-лист готовности проекта</a></span></li></ul></div>"
   ]
  },
  {
   "cell_type": "markdown",
   "metadata": {},
   "source": [
    "# Исследование объявлений о продаже квартир\n",
    "\n",
    "В вашем распоряжении данные сервиса Яндекc Недвижимость — архив объявлений о продаже квартир в Санкт-Петербурге и соседних населённых пунктах за несколько лет. Нужно научиться определять рыночную стоимость объектов недвижимости. Ваша задача — установить параметры. Это позволит построить автоматизированную систему: она отследит аномалии и мошенническую деятельность. \n",
    "\n",
    "По каждой квартире на продажу доступны два вида данных. Первые вписаны пользователем, вторые получены автоматически на основе картографических данных. Например, расстояние до центра, аэропорта, ближайшего парка и водоёма. "
   ]
  },
  {
   "cell_type": "markdown",
   "metadata": {},
   "source": [
    "<div class=\"alert alert-success\">\n",
    "<b>Комментарий ревьюера:</b>\n",
    "\n",
    "Здорово, когда есть вступление в сам проект, каждый сможет быстрее разобраться в концепции / деталях работы. \n",
    "\n",
    "</div>"
   ]
  },
  {
   "cell_type": "markdown",
   "metadata": {},
   "source": [
    "## Изучение данных из файла"
   ]
  },
  {
   "cell_type": "code",
   "execution_count": 1,
   "metadata": {},
   "outputs": [],
   "source": [
    "import pandas as pd\n",
    "import numpy as np\n",
    "import matplotlib.pyplot as plt"
   ]
  },
  {
   "cell_type": "code",
   "execution_count": 2,
   "metadata": {},
   "outputs": [
    {
     "data": {
      "text/html": [
       "<div>\n",
       "<style scoped>\n",
       "    .dataframe tbody tr th:only-of-type {\n",
       "        vertical-align: middle;\n",
       "    }\n",
       "\n",
       "    .dataframe tbody tr th {\n",
       "        vertical-align: top;\n",
       "    }\n",
       "\n",
       "    .dataframe thead th {\n",
       "        text-align: right;\n",
       "    }\n",
       "</style>\n",
       "<table border=\"1\" class=\"dataframe\">\n",
       "  <thead>\n",
       "    <tr style=\"text-align: right;\">\n",
       "      <th></th>\n",
       "      <th>total_images</th>\n",
       "      <th>last_price</th>\n",
       "      <th>total_area</th>\n",
       "      <th>first_day_exposition</th>\n",
       "      <th>rooms</th>\n",
       "      <th>ceiling_height</th>\n",
       "      <th>floors_total</th>\n",
       "      <th>living_area</th>\n",
       "      <th>floor</th>\n",
       "      <th>is_apartment</th>\n",
       "      <th>...</th>\n",
       "      <th>kitchen_area</th>\n",
       "      <th>balcony</th>\n",
       "      <th>locality_name</th>\n",
       "      <th>airports_nearest</th>\n",
       "      <th>cityCenters_nearest</th>\n",
       "      <th>parks_around3000</th>\n",
       "      <th>parks_nearest</th>\n",
       "      <th>ponds_around3000</th>\n",
       "      <th>ponds_nearest</th>\n",
       "      <th>days_exposition</th>\n",
       "    </tr>\n",
       "  </thead>\n",
       "  <tbody>\n",
       "    <tr>\n",
       "      <th>0</th>\n",
       "      <td>20</td>\n",
       "      <td>13000000.0</td>\n",
       "      <td>108.0</td>\n",
       "      <td>2019-03-07T00:00:00</td>\n",
       "      <td>3</td>\n",
       "      <td>2.70</td>\n",
       "      <td>16.0</td>\n",
       "      <td>51.0</td>\n",
       "      <td>8</td>\n",
       "      <td>NaN</td>\n",
       "      <td>...</td>\n",
       "      <td>25.0</td>\n",
       "      <td>NaN</td>\n",
       "      <td>Санкт-Петербург</td>\n",
       "      <td>18863.0</td>\n",
       "      <td>16028.0</td>\n",
       "      <td>1.0</td>\n",
       "      <td>482.0</td>\n",
       "      <td>2.0</td>\n",
       "      <td>755.0</td>\n",
       "      <td>NaN</td>\n",
       "    </tr>\n",
       "    <tr>\n",
       "      <th>1</th>\n",
       "      <td>7</td>\n",
       "      <td>3350000.0</td>\n",
       "      <td>40.4</td>\n",
       "      <td>2018-12-04T00:00:00</td>\n",
       "      <td>1</td>\n",
       "      <td>NaN</td>\n",
       "      <td>11.0</td>\n",
       "      <td>18.6</td>\n",
       "      <td>1</td>\n",
       "      <td>NaN</td>\n",
       "      <td>...</td>\n",
       "      <td>11.0</td>\n",
       "      <td>2.0</td>\n",
       "      <td>посёлок Шушары</td>\n",
       "      <td>12817.0</td>\n",
       "      <td>18603.0</td>\n",
       "      <td>0.0</td>\n",
       "      <td>NaN</td>\n",
       "      <td>0.0</td>\n",
       "      <td>NaN</td>\n",
       "      <td>81.0</td>\n",
       "    </tr>\n",
       "    <tr>\n",
       "      <th>2</th>\n",
       "      <td>10</td>\n",
       "      <td>5196000.0</td>\n",
       "      <td>56.0</td>\n",
       "      <td>2015-08-20T00:00:00</td>\n",
       "      <td>2</td>\n",
       "      <td>NaN</td>\n",
       "      <td>5.0</td>\n",
       "      <td>34.3</td>\n",
       "      <td>4</td>\n",
       "      <td>NaN</td>\n",
       "      <td>...</td>\n",
       "      <td>8.3</td>\n",
       "      <td>0.0</td>\n",
       "      <td>Санкт-Петербург</td>\n",
       "      <td>21741.0</td>\n",
       "      <td>13933.0</td>\n",
       "      <td>1.0</td>\n",
       "      <td>90.0</td>\n",
       "      <td>2.0</td>\n",
       "      <td>574.0</td>\n",
       "      <td>558.0</td>\n",
       "    </tr>\n",
       "    <tr>\n",
       "      <th>3</th>\n",
       "      <td>0</td>\n",
       "      <td>64900000.0</td>\n",
       "      <td>159.0</td>\n",
       "      <td>2015-07-24T00:00:00</td>\n",
       "      <td>3</td>\n",
       "      <td>NaN</td>\n",
       "      <td>14.0</td>\n",
       "      <td>NaN</td>\n",
       "      <td>9</td>\n",
       "      <td>NaN</td>\n",
       "      <td>...</td>\n",
       "      <td>NaN</td>\n",
       "      <td>0.0</td>\n",
       "      <td>Санкт-Петербург</td>\n",
       "      <td>28098.0</td>\n",
       "      <td>6800.0</td>\n",
       "      <td>2.0</td>\n",
       "      <td>84.0</td>\n",
       "      <td>3.0</td>\n",
       "      <td>234.0</td>\n",
       "      <td>424.0</td>\n",
       "    </tr>\n",
       "    <tr>\n",
       "      <th>4</th>\n",
       "      <td>2</td>\n",
       "      <td>10000000.0</td>\n",
       "      <td>100.0</td>\n",
       "      <td>2018-06-19T00:00:00</td>\n",
       "      <td>2</td>\n",
       "      <td>3.03</td>\n",
       "      <td>14.0</td>\n",
       "      <td>32.0</td>\n",
       "      <td>13</td>\n",
       "      <td>NaN</td>\n",
       "      <td>...</td>\n",
       "      <td>41.0</td>\n",
       "      <td>NaN</td>\n",
       "      <td>Санкт-Петербург</td>\n",
       "      <td>31856.0</td>\n",
       "      <td>8098.0</td>\n",
       "      <td>2.0</td>\n",
       "      <td>112.0</td>\n",
       "      <td>1.0</td>\n",
       "      <td>48.0</td>\n",
       "      <td>121.0</td>\n",
       "    </tr>\n",
       "  </tbody>\n",
       "</table>\n",
       "<p>5 rows × 22 columns</p>\n",
       "</div>"
      ],
      "text/plain": [
       "   total_images  last_price  total_area first_day_exposition  rooms  \\\n",
       "0            20  13000000.0       108.0  2019-03-07T00:00:00      3   \n",
       "1             7   3350000.0        40.4  2018-12-04T00:00:00      1   \n",
       "2            10   5196000.0        56.0  2015-08-20T00:00:00      2   \n",
       "3             0  64900000.0       159.0  2015-07-24T00:00:00      3   \n",
       "4             2  10000000.0       100.0  2018-06-19T00:00:00      2   \n",
       "\n",
       "   ceiling_height  floors_total  living_area  floor is_apartment  ...  \\\n",
       "0            2.70          16.0         51.0      8          NaN  ...   \n",
       "1             NaN          11.0         18.6      1          NaN  ...   \n",
       "2             NaN           5.0         34.3      4          NaN  ...   \n",
       "3             NaN          14.0          NaN      9          NaN  ...   \n",
       "4            3.03          14.0         32.0     13          NaN  ...   \n",
       "\n",
       "   kitchen_area  balcony    locality_name  airports_nearest  \\\n",
       "0          25.0      NaN  Санкт-Петербург           18863.0   \n",
       "1          11.0      2.0   посёлок Шушары           12817.0   \n",
       "2           8.3      0.0  Санкт-Петербург           21741.0   \n",
       "3           NaN      0.0  Санкт-Петербург           28098.0   \n",
       "4          41.0      NaN  Санкт-Петербург           31856.0   \n",
       "\n",
       "  cityCenters_nearest  parks_around3000  parks_nearest  ponds_around3000  \\\n",
       "0             16028.0               1.0          482.0               2.0   \n",
       "1             18603.0               0.0            NaN               0.0   \n",
       "2             13933.0               1.0           90.0               2.0   \n",
       "3              6800.0               2.0           84.0               3.0   \n",
       "4              8098.0               2.0          112.0               1.0   \n",
       "\n",
       "   ponds_nearest  days_exposition  \n",
       "0          755.0              NaN  \n",
       "1            NaN             81.0  \n",
       "2          574.0            558.0  \n",
       "3          234.0            424.0  \n",
       "4           48.0            121.0  \n",
       "\n",
       "[5 rows x 22 columns]"
      ]
     },
     "execution_count": 2,
     "metadata": {},
     "output_type": "execute_result"
    }
   ],
   "source": [
    "real_estate = pd.read_csv(r'/datasets/real_estate_data.csv', sep='\\t')\n",
    "real_estate.head(5)"
   ]
  },
  {
   "cell_type": "code",
   "execution_count": 3,
   "metadata": {},
   "outputs": [
    {
     "name": "stdout",
     "output_type": "stream",
     "text": [
      "<class 'pandas.core.frame.DataFrame'>\n",
      "RangeIndex: 23699 entries, 0 to 23698\n",
      "Data columns (total 22 columns):\n",
      " #   Column                Non-Null Count  Dtype  \n",
      "---  ------                --------------  -----  \n",
      " 0   total_images          23699 non-null  int64  \n",
      " 1   last_price            23699 non-null  float64\n",
      " 2   total_area            23699 non-null  float64\n",
      " 3   first_day_exposition  23699 non-null  object \n",
      " 4   rooms                 23699 non-null  int64  \n",
      " 5   ceiling_height        14504 non-null  float64\n",
      " 6   floors_total          23613 non-null  float64\n",
      " 7   living_area           21796 non-null  float64\n",
      " 8   floor                 23699 non-null  int64  \n",
      " 9   is_apartment          2775 non-null   object \n",
      " 10  studio                23699 non-null  bool   \n",
      " 11  open_plan             23699 non-null  bool   \n",
      " 12  kitchen_area          21421 non-null  float64\n",
      " 13  balcony               12180 non-null  float64\n",
      " 14  locality_name         23650 non-null  object \n",
      " 15  airports_nearest      18157 non-null  float64\n",
      " 16  cityCenters_nearest   18180 non-null  float64\n",
      " 17  parks_around3000      18181 non-null  float64\n",
      " 18  parks_nearest         8079 non-null   float64\n",
      " 19  ponds_around3000      18181 non-null  float64\n",
      " 20  ponds_nearest         9110 non-null   float64\n",
      " 21  days_exposition       20518 non-null  float64\n",
      "dtypes: bool(2), float64(14), int64(3), object(3)\n",
      "memory usage: 3.7+ MB\n"
     ]
    }
   ],
   "source": [
    "real_estate.info()"
   ]
  },
  {
   "cell_type": "markdown",
   "metadata": {},
   "source": [
    "### Вывод"
   ]
  },
  {
   "cell_type": "markdown",
   "metadata": {},
   "source": [
    "Очень много пропущенных значений в половине столбцов (от ~1500 до ~21000). Некоторые столбцы требуют смены формата, например с float64 на int64, или с object на boolean."
   ]
  },
  {
   "cell_type": "markdown",
   "metadata": {},
   "source": [
    "## Предобработка данных"
   ]
  },
  {
   "cell_type": "code",
   "execution_count": 4,
   "metadata": {},
   "outputs": [],
   "source": [
    "real_estate['balcony'] = real_estate['balcony'].fillna(0)\n",
    "\n",
    "real_estate.loc[real_estate['floor'] > 1, 'is_apartment'] = real_estate.loc[real_estate['floor'] > 1, 'is_apartment'].fillna(True)\n",
    "real_estate.loc[real_estate['floor'] <= 1, 'is_apartment'] = real_estate.loc[real_estate['floor'] <= 1, 'is_apartment'].fillna(False)"
   ]
  },
  {
   "cell_type": "code",
   "execution_count": 5,
   "metadata": {},
   "outputs": [
    {
     "name": "stdout",
     "output_type": "stream",
     "text": [
      "0 9\n",
      "0 9\n"
     ]
    }
   ],
   "source": [
    "print(real_estate.loc[real_estate['living_area'].isna(), 'rooms'].min(), real_estate.loc[real_estate['living_area'].isna(), 'rooms'].max())\n",
    "print(real_estate.loc[real_estate['kitchen_area'].isna(), 'rooms'].min(), real_estate.loc[real_estate['kitchen_area'].isna(), 'rooms'].max())"
   ]
  },
  {
   "cell_type": "code",
   "execution_count": 6,
   "metadata": {},
   "outputs": [],
   "source": [
    "real_estate['floors_total'] = real_estate['floors_total'].fillna(real_estate['floors_total'].median())\n",
    "\n",
    "real_estate.loc[real_estate['rooms'] == 0, 'living_area'] = real_estate.loc[real_estate['rooms'] == 0, 'living_area'].fillna(real_estate.loc[real_estate['rooms'] == 0, 'living_area'].median())\n",
    "real_estate.loc[real_estate['rooms'] == 1, 'living_area'] = real_estate.loc[real_estate['rooms'] == 1, 'living_area'].fillna(real_estate.loc[real_estate['rooms'] == 1, 'living_area'].median())\n",
    "real_estate.loc[real_estate['rooms'] == 2, 'living_area'] = real_estate.loc[real_estate['rooms'] == 2, 'living_area'].fillna(real_estate.loc[real_estate['rooms'] == 2, 'living_area'].median())\n",
    "real_estate.loc[real_estate['rooms'] == 3, 'living_area'] = real_estate.loc[real_estate['rooms'] == 3, 'living_area'].fillna(real_estate.loc[real_estate['rooms'] == 3, 'living_area'].median())\n",
    "real_estate.loc[real_estate['rooms'] == 4, 'living_area'] = real_estate.loc[real_estate['rooms'] == 4, 'living_area'].fillna(real_estate.loc[real_estate['rooms'] == 4, 'living_area'].median())\n",
    "real_estate.loc[real_estate['rooms'] == 5, 'living_area'] = real_estate.loc[real_estate['rooms'] == 5, 'living_area'].fillna(real_estate.loc[real_estate['rooms'] == 5, 'living_area'].median())\n",
    "real_estate.loc[real_estate['rooms'] == 6, 'living_area'] = real_estate.loc[real_estate['rooms'] == 6, 'living_area'].fillna(real_estate.loc[real_estate['rooms'] == 6, 'living_area'].median())\n",
    "real_estate.loc[real_estate['rooms'] == 7, 'living_area'] = real_estate.loc[real_estate['rooms'] == 7, 'living_area'].fillna(real_estate.loc[real_estate['rooms'] == 7, 'living_area'].median())\n",
    "real_estate.loc[real_estate['rooms'] == 8, 'living_area'] = real_estate.loc[real_estate['rooms'] == 8, 'living_area'].fillna(real_estate.loc[real_estate['rooms'] == 8, 'living_area'].median())\n",
    "real_estate.loc[real_estate['rooms'] == 9, 'living_area'] = real_estate.loc[real_estate['rooms'] == 9, 'living_area'].fillna(real_estate.loc[real_estate['rooms'] == 9, 'living_area'].median())\n",
    "\n",
    "real_estate.loc[real_estate['rooms'] == 0, 'kitchen_area'] = real_estate.loc[real_estate['rooms'] == 0, 'kitchen_area'].fillna(0)\n",
    "real_estate.loc[real_estate['rooms'] == 1, 'kitchen_area'] = real_estate.loc[real_estate['rooms'] == 1, 'kitchen_area'].fillna(real_estate.loc[real_estate['rooms'] == 1, 'kitchen_area'].median())\n",
    "real_estate.loc[real_estate['rooms'] == 2, 'kitchen_area'] = real_estate.loc[real_estate['rooms'] == 2, 'kitchen_area'].fillna(real_estate.loc[real_estate['rooms'] == 2, 'kitchen_area'].median())\n",
    "real_estate.loc[real_estate['rooms'] == 3, 'kitchen_area'] = real_estate.loc[real_estate['rooms'] == 3, 'kitchen_area'].fillna(real_estate.loc[real_estate['rooms'] == 3, 'kitchen_area'].median())\n",
    "real_estate.loc[real_estate['rooms'] == 4, 'kitchen_area'] = real_estate.loc[real_estate['rooms'] == 4, 'kitchen_area'].fillna(real_estate.loc[real_estate['rooms'] == 4, 'kitchen_area'].median())\n",
    "real_estate.loc[real_estate['rooms'] == 5, 'kitchen_area'] = real_estate.loc[real_estate['rooms'] == 5, 'kitchen_area'].fillna(real_estate.loc[real_estate['rooms'] == 5, 'kitchen_area'].median())\n",
    "real_estate.loc[real_estate['rooms'] == 6, 'kitchen_area'] = real_estate.loc[real_estate['rooms'] == 6, 'kitchen_area'].fillna(real_estate.loc[real_estate['rooms'] == 6, 'kitchen_area'].median())\n",
    "real_estate.loc[real_estate['rooms'] == 7, 'kitchen_area'] = real_estate.loc[real_estate['rooms'] == 7, 'kitchen_area'].fillna(real_estate.loc[real_estate['rooms'] == 7, 'kitchen_area'].median())\n",
    "real_estate.loc[real_estate['rooms'] == 8, 'kitchen_area'] = real_estate.loc[real_estate['rooms'] == 8, 'kitchen_area'].fillna(real_estate.loc[real_estate['rooms'] == 8, 'kitchen_area'].median())\n",
    "real_estate.loc[real_estate['rooms'] == 9, 'kitchen_area'] = real_estate.loc[real_estate['rooms'] == 9, 'kitchen_area'].fillna(real_estate.loc[real_estate['rooms'] == 9, 'kitchen_area'].median())\n",
    "\n",
    "real_estate['days_exposition'] = real_estate['days_exposition'].fillna(real_estate['days_exposition'].median())"
   ]
  },
  {
   "cell_type": "markdown",
   "metadata": {},
   "source": [
    "<div class=\"alert alert-success\">\n",
    "<b>Комментарий ревьюера:</b>\n",
    "\n",
    "Кажется здесь можно было бы использовать цикл `for`, чтобы автоматизировать замену пропусков.\n",
    "</div>"
   ]
  },
  {
   "cell_type": "code",
   "execution_count": 7,
   "metadata": {},
   "outputs": [
    {
     "name": "stdout",
     "output_type": "stream",
     "text": [
      "<class 'pandas.core.frame.DataFrame'>\n",
      "RangeIndex: 23699 entries, 0 to 23698\n",
      "Data columns (total 22 columns):\n",
      " #   Column                Non-Null Count  Dtype  \n",
      "---  ------                --------------  -----  \n",
      " 0   total_images          23699 non-null  int64  \n",
      " 1   last_price            23699 non-null  float64\n",
      " 2   total_area            23699 non-null  float64\n",
      " 3   first_day_exposition  23699 non-null  object \n",
      " 4   rooms                 23699 non-null  int64  \n",
      " 5   ceiling_height        14504 non-null  float64\n",
      " 6   floors_total          23699 non-null  float64\n",
      " 7   living_area           23699 non-null  float64\n",
      " 8   floor                 23699 non-null  int64  \n",
      " 9   is_apartment          23699 non-null  object \n",
      " 10  studio                23699 non-null  bool   \n",
      " 11  open_plan             23699 non-null  bool   \n",
      " 12  kitchen_area          23699 non-null  float64\n",
      " 13  balcony               23699 non-null  float64\n",
      " 14  locality_name         23650 non-null  object \n",
      " 15  airports_nearest      18157 non-null  float64\n",
      " 16  cityCenters_nearest   18180 non-null  float64\n",
      " 17  parks_around3000      18181 non-null  float64\n",
      " 18  parks_nearest         8079 non-null   float64\n",
      " 19  ponds_around3000      18181 non-null  float64\n",
      " 20  ponds_nearest         9110 non-null   float64\n",
      " 21  days_exposition       23699 non-null  float64\n",
      "dtypes: bool(2), float64(14), int64(3), object(3)\n",
      "memory usage: 3.7+ MB\n"
     ]
    }
   ],
   "source": [
    "real_estate.info()"
   ]
  },
  {
   "cell_type": "markdown",
   "metadata": {},
   "source": [
    "Пропуски в столбце balcony были запонены нулем из ходя из того, что скорее всего балкона в данных объектах недвижимости нет. Пропуски в столбце is_apartment были заполнены True с условием, что они находятся выше первого этажа, так как на первых этажах также могут находиться коммерческие нежилые помещения, и заполнены False в обратном случае. Столбцы floors_total и days_exposition были заполнены медианными значениями, так как доли пропусков в этих столбцах составляли менее 10%. Пропуски в столбцах living_area и kitchen_area были заполнены мединанными значениями из ходя из того, сколько комнат есть в данных объектах недвижимости. ###Остальные пропущенные значения были заполнены пустым текстовым значением, так как нет логического пути определения их точного значения."
   ]
  },
  {
   "cell_type": "code",
   "execution_count": 8,
   "metadata": {},
   "outputs": [
    {
     "name": "stdout",
     "output_type": "stream",
     "text": [
      "<class 'pandas.core.frame.DataFrame'>\n",
      "RangeIndex: 23699 entries, 0 to 23698\n",
      "Data columns (total 22 columns):\n",
      " #   Column                Non-Null Count  Dtype         \n",
      "---  ------                --------------  -----         \n",
      " 0   total_images          23699 non-null  int64         \n",
      " 1   last_price            23699 non-null  int64         \n",
      " 2   total_area            23699 non-null  float64       \n",
      " 3   first_day_exposition  23699 non-null  datetime64[ns]\n",
      " 4   rooms                 23699 non-null  int64         \n",
      " 5   ceiling_height        14504 non-null  float64       \n",
      " 6   floors_total          23699 non-null  int64         \n",
      " 7   living_area           23699 non-null  float64       \n",
      " 8   floor                 23699 non-null  int64         \n",
      " 9   is_apartment          23699 non-null  object        \n",
      " 10  studio                23699 non-null  bool          \n",
      " 11  open_plan             23699 non-null  bool          \n",
      " 12  kitchen_area          23699 non-null  float64       \n",
      " 13  balcony               23699 non-null  int64         \n",
      " 14  locality_name         23650 non-null  object        \n",
      " 15  airports_nearest      18157 non-null  float64       \n",
      " 16  cityCenters_nearest   18180 non-null  float64       \n",
      " 17  parks_around3000      18181 non-null  float64       \n",
      " 18  parks_nearest         8079 non-null   float64       \n",
      " 19  ponds_around3000      18181 non-null  float64       \n",
      " 20  ponds_nearest         9110 non-null   float64       \n",
      " 21  days_exposition       23699 non-null  int64         \n",
      "dtypes: bool(2), datetime64[ns](1), float64(10), int64(7), object(2)\n",
      "memory usage: 3.7+ MB\n"
     ]
    }
   ],
   "source": [
    "real_estate['last_price'] = real_estate['last_price'].astype(int)\n",
    "real_estate['first_day_exposition'] = pd.to_datetime(real_estate['first_day_exposition'], format='%Y-%m-%dT%H:%M:%S')\n",
    "real_estate['floors_total'] = real_estate['floors_total'].astype(int)\n",
    "real_estate['balcony'] = real_estate['balcony'].astype(int)\n",
    "real_estate['days_exposition'] = real_estate['days_exposition'].astype(int)\n",
    "real_estate.info()"
   ]
  },
  {
   "cell_type": "markdown",
   "metadata": {},
   "source": [
    "Столбцы last_price, days_exposition, balcony и floors_total нуждались в смене типа данных, так как представляют собой числовой эквивалент чем дробный, как например living_area или kitchen_area, где даже цифры после запятой имеют значение. Формат данных из столбца first_day_exposition требовал корректировки, так как подразумевал собой формат datetime но был сохранен как string."
   ]
  },
  {
   "cell_type": "markdown",
   "metadata": {},
   "source": [
    "<div class=\"alert alert-success\">\n",
    "<b>Комментарий ревьюера:</b>\n",
    "\n",
    "В том числе метод `fillna` и `astype` можно применять к нескольким столбцам одновременно.\n",
    "    \n",
    "Если столбцов более 2–ух, то рекомендую применять цикл `for`.\n",
    "    \n",
    "Пример: \n",
    "    \n",
    "`df.astype({ \"col1\": \"float64\", \"col2\": \"int64\"})`\n",
    "    \n",
    "</div>"
   ]
  },
  {
   "cell_type": "markdown",
   "metadata": {},
   "source": [
    "```python\n",
    "\n",
    "columns = [col1, col2, col3]\n",
    "\n",
    "for i in columns:\n",
    "    df[i] = df[i].fillna(0)\n",
    "\n",
    "```"
   ]
  },
  {
   "cell_type": "markdown",
   "metadata": {},
   "source": [
    "## Расчёты и добавление результатов в таблицу"
   ]
  },
  {
   "cell_type": "code",
   "execution_count": 9,
   "metadata": {},
   "outputs": [],
   "source": [
    "real_estate['sq_meter_price'] = real_estate['last_price'] / real_estate['total_area']\n",
    "\n",
    "real_estate['first_day_exposition(weekday)'] = real_estate['first_day_exposition'].dt.day_name()\n",
    "real_estate['first_day_exposition(month)'] = real_estate['first_day_exposition'].dt.month\n",
    "real_estate['first_day_exposition(year)'] = real_estate['first_day_exposition'].dt.year\n",
    "\n",
    "def categorize_floor(row):\n",
    "    if row['floor'] == row['floors_total']:\n",
    "        return 'Последний'\n",
    "    elif row['floor'] == 1:\n",
    "        return 'Первый'\n",
    "    else:\n",
    "        return 'Другой'\n",
    "real_estate['floor_category'] = real_estate.apply(categorize_floor, axis=1)\n",
    "\n",
    "real_estate['total_living_area_prop'] = real_estate['total_area'] / real_estate['living_area']\n",
    "real_estate['total_kitchen_area_prop'] = real_estate['total_area'] / real_estate['kitchen_area']"
   ]
  },
  {
   "cell_type": "code",
   "execution_count": 10,
   "metadata": {},
   "outputs": [
    {
     "data": {
      "text/html": [
       "<div>\n",
       "<style scoped>\n",
       "    .dataframe tbody tr th:only-of-type {\n",
       "        vertical-align: middle;\n",
       "    }\n",
       "\n",
       "    .dataframe tbody tr th {\n",
       "        vertical-align: top;\n",
       "    }\n",
       "\n",
       "    .dataframe thead th {\n",
       "        text-align: right;\n",
       "    }\n",
       "</style>\n",
       "<table border=\"1\" class=\"dataframe\">\n",
       "  <thead>\n",
       "    <tr style=\"text-align: right;\">\n",
       "      <th></th>\n",
       "      <th>total_images</th>\n",
       "      <th>last_price</th>\n",
       "      <th>total_area</th>\n",
       "      <th>first_day_exposition</th>\n",
       "      <th>rooms</th>\n",
       "      <th>ceiling_height</th>\n",
       "      <th>floors_total</th>\n",
       "      <th>living_area</th>\n",
       "      <th>floor</th>\n",
       "      <th>is_apartment</th>\n",
       "      <th>...</th>\n",
       "      <th>ponds_around3000</th>\n",
       "      <th>ponds_nearest</th>\n",
       "      <th>days_exposition</th>\n",
       "      <th>sq_meter_price</th>\n",
       "      <th>first_day_exposition(weekday)</th>\n",
       "      <th>first_day_exposition(month)</th>\n",
       "      <th>first_day_exposition(year)</th>\n",
       "      <th>floor_category</th>\n",
       "      <th>total_living_area_prop</th>\n",
       "      <th>total_kitchen_area_prop</th>\n",
       "    </tr>\n",
       "  </thead>\n",
       "  <tbody>\n",
       "    <tr>\n",
       "      <th>23694</th>\n",
       "      <td>9</td>\n",
       "      <td>9700000</td>\n",
       "      <td>133.81</td>\n",
       "      <td>2017-03-21</td>\n",
       "      <td>3</td>\n",
       "      <td>3.7</td>\n",
       "      <td>5</td>\n",
       "      <td>73.3</td>\n",
       "      <td>3</td>\n",
       "      <td>True</td>\n",
       "      <td>...</td>\n",
       "      <td>3.0</td>\n",
       "      <td>381.0</td>\n",
       "      <td>95</td>\n",
       "      <td>72490.845228</td>\n",
       "      <td>Tuesday</td>\n",
       "      <td>3</td>\n",
       "      <td>2017</td>\n",
       "      <td>Другой</td>\n",
       "      <td>1.825512</td>\n",
       "      <td>9.675343</td>\n",
       "    </tr>\n",
       "    <tr>\n",
       "      <th>23695</th>\n",
       "      <td>14</td>\n",
       "      <td>3100000</td>\n",
       "      <td>59.00</td>\n",
       "      <td>2018-01-15</td>\n",
       "      <td>3</td>\n",
       "      <td>NaN</td>\n",
       "      <td>5</td>\n",
       "      <td>38.0</td>\n",
       "      <td>4</td>\n",
       "      <td>True</td>\n",
       "      <td>...</td>\n",
       "      <td>NaN</td>\n",
       "      <td>NaN</td>\n",
       "      <td>45</td>\n",
       "      <td>52542.372881</td>\n",
       "      <td>Monday</td>\n",
       "      <td>1</td>\n",
       "      <td>2018</td>\n",
       "      <td>Другой</td>\n",
       "      <td>1.552632</td>\n",
       "      <td>6.941176</td>\n",
       "    </tr>\n",
       "    <tr>\n",
       "      <th>23696</th>\n",
       "      <td>18</td>\n",
       "      <td>2500000</td>\n",
       "      <td>56.70</td>\n",
       "      <td>2018-02-11</td>\n",
       "      <td>2</td>\n",
       "      <td>NaN</td>\n",
       "      <td>3</td>\n",
       "      <td>29.7</td>\n",
       "      <td>1</td>\n",
       "      <td>False</td>\n",
       "      <td>...</td>\n",
       "      <td>NaN</td>\n",
       "      <td>NaN</td>\n",
       "      <td>95</td>\n",
       "      <td>44091.710758</td>\n",
       "      <td>Sunday</td>\n",
       "      <td>2</td>\n",
       "      <td>2018</td>\n",
       "      <td>Первый</td>\n",
       "      <td>1.909091</td>\n",
       "      <td>6.443182</td>\n",
       "    </tr>\n",
       "    <tr>\n",
       "      <th>23697</th>\n",
       "      <td>13</td>\n",
       "      <td>11475000</td>\n",
       "      <td>76.75</td>\n",
       "      <td>2017-03-28</td>\n",
       "      <td>2</td>\n",
       "      <td>3.0</td>\n",
       "      <td>17</td>\n",
       "      <td>30.5</td>\n",
       "      <td>12</td>\n",
       "      <td>True</td>\n",
       "      <td>...</td>\n",
       "      <td>3.0</td>\n",
       "      <td>196.0</td>\n",
       "      <td>602</td>\n",
       "      <td>149511.400651</td>\n",
       "      <td>Tuesday</td>\n",
       "      <td>3</td>\n",
       "      <td>2017</td>\n",
       "      <td>Другой</td>\n",
       "      <td>2.516393</td>\n",
       "      <td>3.293991</td>\n",
       "    </tr>\n",
       "    <tr>\n",
       "      <th>23698</th>\n",
       "      <td>4</td>\n",
       "      <td>1350000</td>\n",
       "      <td>32.30</td>\n",
       "      <td>2017-07-21</td>\n",
       "      <td>1</td>\n",
       "      <td>2.5</td>\n",
       "      <td>5</td>\n",
       "      <td>12.3</td>\n",
       "      <td>1</td>\n",
       "      <td>False</td>\n",
       "      <td>...</td>\n",
       "      <td>NaN</td>\n",
       "      <td>NaN</td>\n",
       "      <td>95</td>\n",
       "      <td>41795.665635</td>\n",
       "      <td>Friday</td>\n",
       "      <td>7</td>\n",
       "      <td>2017</td>\n",
       "      <td>Первый</td>\n",
       "      <td>2.626016</td>\n",
       "      <td>3.588889</td>\n",
       "    </tr>\n",
       "  </tbody>\n",
       "</table>\n",
       "<p>5 rows × 29 columns</p>\n",
       "</div>"
      ],
      "text/plain": [
       "       total_images  last_price  total_area first_day_exposition  rooms  \\\n",
       "23694             9     9700000      133.81           2017-03-21      3   \n",
       "23695            14     3100000       59.00           2018-01-15      3   \n",
       "23696            18     2500000       56.70           2018-02-11      2   \n",
       "23697            13    11475000       76.75           2017-03-28      2   \n",
       "23698             4     1350000       32.30           2017-07-21      1   \n",
       "\n",
       "       ceiling_height  floors_total  living_area  floor is_apartment  ...  \\\n",
       "23694             3.7             5         73.3      3         True  ...   \n",
       "23695             NaN             5         38.0      4         True  ...   \n",
       "23696             NaN             3         29.7      1        False  ...   \n",
       "23697             3.0            17         30.5     12         True  ...   \n",
       "23698             2.5             5         12.3      1        False  ...   \n",
       "\n",
       "       ponds_around3000  ponds_nearest  days_exposition  sq_meter_price  \\\n",
       "23694               3.0          381.0               95    72490.845228   \n",
       "23695               NaN            NaN               45    52542.372881   \n",
       "23696               NaN            NaN               95    44091.710758   \n",
       "23697               3.0          196.0              602   149511.400651   \n",
       "23698               NaN            NaN               95    41795.665635   \n",
       "\n",
       "      first_day_exposition(weekday)  first_day_exposition(month)  \\\n",
       "23694                       Tuesday                            3   \n",
       "23695                        Monday                            1   \n",
       "23696                        Sunday                            2   \n",
       "23697                       Tuesday                            3   \n",
       "23698                        Friday                            7   \n",
       "\n",
       "       first_day_exposition(year)  floor_category  total_living_area_prop  \\\n",
       "23694                        2017          Другой                1.825512   \n",
       "23695                        2018          Другой                1.552632   \n",
       "23696                        2018          Первый                1.909091   \n",
       "23697                        2017          Другой                2.516393   \n",
       "23698                        2017          Первый                2.626016   \n",
       "\n",
       "       total_kitchen_area_prop  \n",
       "23694                 9.675343  \n",
       "23695                 6.941176  \n",
       "23696                 6.443182  \n",
       "23697                 3.293991  \n",
       "23698                 3.588889  \n",
       "\n",
       "[5 rows x 29 columns]"
      ]
     },
     "execution_count": 10,
     "metadata": {},
     "output_type": "execute_result"
    }
   ],
   "source": [
    "real_estate.tail(5)"
   ]
  },
  {
   "cell_type": "markdown",
   "metadata": {},
   "source": [
    "<div class=\"alert alert-success\">\n",
    "<b>Комментарий ревьюера:</b>\n",
    "\n",
    "Мы достаточно детально обработали наши данные и добавили все необходимые значения в нашу выборку. Давай теперь проведём анализ.\n",
    "    \n",
    "</div>"
   ]
  },
  {
   "cell_type": "markdown",
   "metadata": {},
   "source": [
    "## Исследовательский анализ данных"
   ]
  },
  {
   "cell_type": "code",
   "execution_count": 11,
   "metadata": {},
   "outputs": [
    {
     "data": {
      "text/plain": [
       "array([[<AxesSubplot:title={'center':'total_area'}>,\n",
       "        <AxesSubplot:title={'center':'last_price'}>],\n",
       "       [<AxesSubplot:title={'center':'rooms'}>,\n",
       "        <AxesSubplot:title={'center':'ceiling_height'}>]], dtype=object)"
      ]
     },
     "execution_count": 11,
     "metadata": {},
     "output_type": "execute_result"
    },
    {
     "data": {
      "image/png": "[encoded data removed]",
      "text/plain": [
       "<Figure size 1440x720 with 4 Axes>"
      ]
     },
     "metadata": {
      "needs_background": "light"
     },
     "output_type": "display_data"
    }
   ],
   "source": [
    "need_hist = real_estate[['total_area', 'last_price', 'rooms', 'ceiling_height']]\n",
    "need_hist.hist(bins=30, figsize=(20,10))"
   ]
  },
  {
   "cell_type": "markdown",
   "metadata": {},
   "source": [
    "<div class=\"alert alert-success\">\n",
    "<b>Комментарий ревьюера:</b>\n",
    "\n",
    "Очень классный и быстрый способ визуализировать несколько графиков сразу 👍\n",
    "    \n",
    "</div>"
   ]
  },
  {
   "cell_type": "code",
   "execution_count": 12,
   "metadata": {},
   "outputs": [
    {
     "name": "stdout",
     "output_type": "stream",
     "text": [
      "169.36022616988058\n",
      "95.0\n",
      "1\n",
      "1580\n"
     ]
    },
    {
     "data": {
      "image/png": "[encoded data removed]",
      "text/plain": [
       "<Figure size 1440x720 with 1 Axes>"
      ]
     },
     "metadata": {
      "needs_background": "light"
     },
     "output_type": "display_data"
    }
   ],
   "source": [
    "real_estate.hist(column='days_exposition' ,bins=30, figsize=(20,10))\n",
    "print(real_estate['days_exposition'].mean())\n",
    "print(real_estate['days_exposition'].median())\n",
    "print(real_estate['days_exposition'].min())\n",
    "print(real_estate['days_exposition'].max())"
   ]
  },
  {
   "cell_type": "markdown",
   "metadata": {},
   "source": [
    "Продажа обычно занимает около 80-120 дней, что равно 3-4 месяцам. Если продажа совершилась до 60 дней, то можно назвать ее быстрой. Если же она заняла более 800 дней, то долгой. "
   ]
  },
  {
   "cell_type": "code",
   "execution_count": 13,
   "metadata": {},
   "outputs": [
    {
     "name": "stdout",
     "output_type": "stream",
     "text": [
      "23535\n"
     ]
    },
    {
     "data": {
      "text/plain": [
       "array([[<AxesSubplot:title={'center':'days_exposition'}>]], dtype=object)"
      ]
     },
     "execution_count": 13,
     "metadata": {},
     "output_type": "execute_result"
    },
    {
     "data": {
      "image/png": "[encoded data removed]",
      "text/plain": [
       "<Figure size 1440x720 with 1 Axes>"
      ]
     },
     "metadata": {
      "needs_background": "light"
     },
     "output_type": "display_data"
    }
   ],
   "source": [
    "real_estate = real_estate.query('days_exposition < 1100')\n",
    "print(len(real_estate))\n",
    "real_estate.hist(column='days_exposition' ,bins=30, figsize=(20,10))"
   ]
  },
  {
   "cell_type": "markdown",
   "metadata": {},
   "source": [
    "В общем целом, тренд остался на месте. За исключением того, что пиковая область в районе 100 дней упала с 7500 кейсов до ~5600."
   ]
  },
  {
   "cell_type": "markdown",
   "metadata": {},
   "source": [
    "<div class=\"alert alert-success\">\n",
    "<b>Комментарий ревьюера:</b>\n",
    "\n",
    "Кстати для того чтобы подписать график мы можем использовать метод `plt.title()` и в конце кода применить `plt.show()`\n",
    "</div>"
   ]
  },
  {
   "cell_type": "code",
   "execution_count": 14,
   "metadata": {},
   "outputs": [
    {
     "data": {
      "text/plain": [
       "<AxesSubplot:xlabel='last_price', ylabel='cityCenters_nearest'>"
      ]
     },
     "execution_count": 14,
     "metadata": {},
     "output_type": "execute_result"
    },
    {
     "data": {
      "image/png": "[encoded data removed]",
      "text/plain": [
       "<Figure size 432x288 with 1 Axes>"
      ]
     },
     "metadata": {
      "needs_background": "light"
     },
     "output_type": "display_data"
    },
    {
     "data": {
      "image/png": "[encoded data removed]",
      "text/plain": [
       "<Figure size 432x288 with 1 Axes>"
      ]
     },
     "metadata": {
      "needs_background": "light"
     },
     "output_type": "display_data"
    },
    {
     "data": {
      "image/png": "[encoded data removed]",
      "text/plain": [
       "<Figure size 432x288 with 1 Axes>"
      ]
     },
     "metadata": {
      "needs_background": "light"
     },
     "output_type": "display_data"
    }
   ],
   "source": [
    "real_estate.plot(x='last_price', y='total_area', kind='scatter')\n",
    "real_estate.plot(x='last_price', y='rooms', kind='scatter')\n",
    "real_estate.plot(x='last_price', y='cityCenters_nearest', kind='scatter')"
   ]
  },
  {
   "cell_type": "markdown",
   "metadata": {},
   "source": [
    "<div class=\"alert alert-success\">\n",
    "<b>Комментарий ревьюера:</b>\n",
    "    \n",
    "Очень важно строить график корреляции между переменными, ведь может произойти такая ситуация, что расчет у нас очень сильный а на графике абсолютно другая картина.\n",
    "    \n",
    "---\n",
    "\n",
    "В том числе можно было построить матрицу корреляции между нужными нам переменными.\n",
    "    \n",
    "И визуализировать её с помощью метода `heatmap` из библиотеки `seaborn`.\n",
    "    \n",
    "</div>"
   ]
  },
  {
   "cell_type": "code",
   "execution_count": 28,
   "metadata": {},
   "outputs": [
    {
     "data": {
      "text/plain": [
       "<AxesSubplot:xlabel='floor_category'>"
      ]
     },
     "execution_count": 28,
     "metadata": {},
     "output_type": "execute_result"
    },
    {
     "data": {
      "image/png": "[encoded data removed]",
      "text/plain": [
       "<Figure size 432x288 with 1 Axes>"
      ]
     },
     "metadata": {
      "needs_background": "light"
     },
     "output_type": "display_data"
    }
   ],
   "source": [
    "real_estate.pivot_table(index='floor_category', values='last_price', aggfunc='mean').plot(kind='bar')"
   ]
  },
  {
   "cell_type": "code",
   "execution_count": 32,
   "metadata": {},
   "outputs": [
    {
     "data": {
      "text/plain": [
       "<AxesSubplot:xlabel='first_day_exposition(year)'>"
      ]
     },
     "execution_count": 32,
     "metadata": {},
     "output_type": "execute_result"
    },
    {
     "data": {
      "image/png": "[encoded data removed]",
      "text/plain": [
       "<Figure size 432x288 with 1 Axes>"
      ]
     },
     "metadata": {
      "needs_background": "light"
     },
     "output_type": "display_data"
    },
    {
     "data": {
      "image/png": "[encoded data removed]",
      "text/plain": [
       "<Figure size 432x288 with 1 Axes>"
      ]
     },
     "metadata": {
      "needs_background": "light"
     },
     "output_type": "display_data"
    },
    {
     "data": {
      "image/png": "[encoded data removed]",
      "text/plain": [
       "<Figure size 432x288 with 1 Axes>"
      ]
     },
     "metadata": {
      "needs_background": "light"
     },
     "output_type": "display_data"
    }
   ],
   "source": [
    "real_estate.pivot_table(index='first_day_exposition(weekday)', values='last_price', aggfunc='mean').plot(kind='bar')\n",
    "real_estate.pivot_table(index='first_day_exposition(month)', values='last_price', aggfunc='mean').plot(kind='bar')\n",
    "real_estate.pivot_table(index='first_day_exposition(year)', values='last_price', aggfunc='mean').plot(kind='bar')"
   ]
  },
  {
   "cell_type": "code",
   "execution_count": 17,
   "metadata": {},
   "outputs": [
    {
     "data": {
      "text/plain": [
       "<AxesSubplot:>"
      ]
     },
     "execution_count": 17,
     "metadata": {},
     "output_type": "execute_result"
    },
    {
     "data": {
      "image/png": "[encoded data removed]",
      "text/plain": [
       "<Figure size 432x288 with 1 Axes>"
      ]
     },
     "metadata": {
      "needs_background": "light"
     },
     "output_type": "display_data"
    }
   ],
   "source": [
    "real_estate['locality_name'].value_counts(sort=True)[:10].plot(kind='bar')"
   ]
  },
  {
   "cell_type": "code",
   "execution_count": 18,
   "metadata": {},
   "outputs": [
    {
     "name": "stdout",
     "output_type": "stream",
     "text": [
      "[124517.85576855589, 83295.67499036682, 76299.41353227031, 67649.4247903015, 105117.39829969451, 74439.19501757211, 87049.3054559884, 68475.38153442442, 90884.86470306081, 57898.142108696105]\n",
      "57898.142108696105\n",
      "124517.85576855589\n"
     ]
    }
   ],
   "source": [
    "spb_region_prices = [real_estate.loc[real_estate['locality_name'] == 'Санкт-Петербург', 'last_price'].sum() / real_estate.loc[real_estate['locality_name'] == 'Санкт-Петербург', 'total_area'].sum(),\n",
    "real_estate.loc[real_estate['locality_name'] == 'посёлок Мурино', 'last_price'].sum() / real_estate.loc[real_estate['locality_name'] == 'посёлок Мурино', 'total_area'].sum(),\n",
    "real_estate.loc[real_estate['locality_name'] == 'посёлок Шушары', 'last_price'].sum() / real_estate.loc[real_estate['locality_name'] == 'посёлок Шушары', 'total_area'].sum(),\n",
    "real_estate.loc[real_estate['locality_name'] == 'Всеволожск', 'last_price'].sum() / real_estate.loc[real_estate['locality_name'] == 'Всеволожск', 'total_area'].sum(),\n",
    "real_estate.loc[real_estate['locality_name'] == 'Пушкин', 'last_price'].sum() / real_estate.loc[real_estate['locality_name'] == 'Пушкин', 'total_area'].sum(),\n",
    "real_estate.loc[real_estate['locality_name'] == 'Колпино', 'last_price'].sum() / real_estate.loc[real_estate['locality_name'] == 'Колпино', 'total_area'].sum(),\n",
    "real_estate.loc[real_estate['locality_name'] == 'посёлок Парголово', 'last_price'].sum() / real_estate.loc[real_estate['locality_name'] == 'посёлок Парголово', 'total_area'].sum(),\n",
    "real_estate.loc[real_estate['locality_name'] == 'Гатчина', 'last_price'].sum() / real_estate.loc[real_estate['locality_name'] == 'Гатчина', 'total_area'].sum(),\n",
    "real_estate.loc[real_estate['locality_name'] == 'деревня Кудрово', 'last_price'].sum() / real_estate.loc[real_estate['locality_name'] == 'деревня Кудрово', 'total_area'].sum(),\n",
    "real_estate.loc[real_estate['locality_name'] == 'Выборг', 'last_price'].sum() / real_estate.loc[real_estate['locality_name'] == 'Выборг', 'total_area'].sum()]\n",
    "print(spb_region_prices)\n",
    "print(min(spb_region_prices))\n",
    "print(max(spb_region_prices))"
   ]
  },
  {
   "cell_type": "markdown",
   "metadata": {},
   "source": [
    "Наивысший показатель цены за квадратный метр как и ожидалось принадлежит Санкт-Петербургу, а самые низкая цена квадратного метра зафиксирована в Выборге."
   ]
  },
  {
   "cell_type": "code",
   "execution_count": 19,
   "metadata": {},
   "outputs": [
    {
     "name": "stderr",
     "output_type": "stream",
     "text": [
      "/tmp/ipykernel_54/3407603847.py:2: SettingWithCopyWarning: \n",
      "A value is trying to be set on a copy of a slice from a DataFrame.\n",
      "Try using .loc[row_indexer,col_indexer] = value instead\n",
      "\n",
      "See the caveats in the documentation: https://pandas.pydata.org/pandas-docs/stable/user_guide/indexing.html#returning-a-view-versus-a-copy\n",
      "  spb_objects['cityCenters_nearest_km'] = spb_objects['cityCenters_nearest'] / 1000\n",
      "/tmp/ipykernel_54/3407603847.py:3: SettingWithCopyWarning: \n",
      "A value is trying to be set on a copy of a slice from a DataFrame.\n",
      "Try using .loc[row_indexer,col_indexer] = value instead\n",
      "\n",
      "See the caveats in the documentation: https://pandas.pydata.org/pandas-docs/stable/user_guide/indexing.html#returning-a-view-versus-a-copy\n",
      "  spb_objects['sq_meter_price_km'] = spb_objects['sq_meter_price'] / spb_objects['cityCenters_nearest_km']\n"
     ]
    },
    {
     "data": {
      "text/plain": [
       "<AxesSubplot:xlabel='cityCenters_nearest_km', ylabel='sq_meter_price_km'>"
      ]
     },
     "execution_count": 19,
     "metadata": {},
     "output_type": "execute_result"
    },
    {
     "data": {
      "image/png": "[encoded data removed]",
      "text/plain": [
       "<Figure size 432x288 with 1 Axes>"
      ]
     },
     "metadata": {
      "needs_background": "light"
     },
     "output_type": "display_data"
    }
   ],
   "source": [
    "spb_objects = real_estate.query('locality_name == \"Санкт-Петербург\"')\n",
    "spb_objects['cityCenters_nearest_km'] = spb_objects['cityCenters_nearest'] / 1000\n",
    "spb_objects['sq_meter_price_km'] = spb_objects['sq_meter_price'] / spb_objects['cityCenters_nearest_km']\n",
    "spb_objects.plot(kind='scatter', x='cityCenters_nearest_km', y='sq_meter_price_km')"
   ]
  },
  {
   "cell_type": "markdown",
   "metadata": {},
   "source": [
    "<div class=\"alert alert-success\">\n",
    "<b>Комментарий ревьюера:</b>\n",
    "\n",
    "Кстати можно отключить предупреждения с помощью следующего способа ниже.\n",
    "    \n",
    "`import warnings` \n",
    "    \n",
    "`warnings.simplefilter('ignore')` \n",
    "    \n",
    "</div>"
   ]
  },
  {
   "cell_type": "markdown",
   "metadata": {},
   "source": [
    "В районе 3 км график становится горизонтальным, это и есть граница центра города."
   ]
  },
  {
   "cell_type": "markdown",
   "metadata": {},
   "source": [
    "<div class=\"alert alert-success\">\n",
    "<b>Комментарий ревьюера:</b>\n",
    "\n",
    "Ориентировочно это 8 – 10 км, потому что дальше идёт в том числе спад и длительная стагнация стоимости.\n",
    "    \n",
    "</div>"
   ]
  },
  {
   "cell_type": "code",
   "execution_count": 20,
   "metadata": {},
   "outputs": [
    {
     "data": {
      "text/plain": [
       "array([[<AxesSubplot:title={'center':'total_area'}>,\n",
       "        <AxesSubplot:title={'center':'last_price'}>],\n",
       "       [<AxesSubplot:title={'center':'rooms'}>,\n",
       "        <AxesSubplot:title={'center':'ceiling_height'}>]], dtype=object)"
      ]
     },
     "execution_count": 20,
     "metadata": {},
     "output_type": "execute_result"
    },
    {
     "data": {
      "image/png": "[encoded data removed]",
      "text/plain": [
       "<Figure size 1440x720 with 4 Axes>"
      ]
     },
     "metadata": {
      "needs_background": "light"
     },
     "output_type": "display_data"
    }
   ],
   "source": [
    "spb_objects_center = spb_objects.query('cityCenters_nearest_km <= 3.0')\n",
    "need_hist2 = spb_objects_center[['total_area', 'last_price', 'rooms', 'ceiling_height']]\n",
    "need_hist2.hist(bins=30, figsize=(20,10))"
   ]
  },
  {
   "cell_type": "markdown",
   "metadata": {},
   "source": [
    "Гистограммы стали более содержательными во всех четырех атрибутах данных. Особенно заметна ясность в rooms и ceiling_height. Более похожей по тренду на гистограмму со всеми данными осталась та что относится к last_price. "
   ]
  },
  {
   "cell_type": "code",
   "execution_count": 21,
   "metadata": {},
   "outputs": [
    {
     "data": {
      "text/plain": [
       "<AxesSubplot:xlabel='last_price', ylabel='cityCenters_nearest'>"
      ]
     },
     "execution_count": 21,
     "metadata": {},
     "output_type": "execute_result"
    },
    {
     "data": {
      "image/png": "[encoded data removed]",
      "text/plain": [
       "<Figure size 432x288 with 1 Axes>"
      ]
     },
     "metadata": {
      "needs_background": "light"
     },
     "output_type": "display_data"
    },
    {
     "data": {
      "image/png": "[encoded data removed]",
      "text/plain": [
       "<Figure size 432x288 with 1 Axes>"
      ]
     },
     "metadata": {
      "needs_background": "light"
     },
     "output_type": "display_data"
    }
   ],
   "source": [
    "spb_objects_center.plot(x='last_price', y='rooms', kind='scatter')\n",
    "spb_objects_center.plot(x='last_price', y='cityCenters_nearest', kind='scatter')"
   ]
  },
  {
   "cell_type": "markdown",
   "metadata": {},
   "source": [
    "<div class=\"alert alert-success\">\n",
    "<b>Комментарий ревьюера:</b>\n",
    "\n",
    "Обрати внимание, что наши действия повторяются с точки зрения построения графиков.\n",
    "    \n",
    "Это говорит о том, что мы можем создать функцию, которая будет выполнять все действия за нас.\n",
    "    \n",
    "Тем самым мы сможем оптимизировать свой код и проект целиком.\n",
    "    \n",
    "</div>"
   ]
  },
  {
   "cell_type": "markdown",
   "metadata": {},
   "source": [
    "Гистограмма отношения числа комнат к последней цене более менее осталась верна тренду всех данных, когда как гистограмма отношения к расстоянию от центра избавилась от \"хвоста\" и это связано с тем что, мы определили точку вхождения в центр (3 км) и отсекли остальные данные. "
   ]
  },
  {
   "cell_type": "code",
   "execution_count": 27,
   "metadata": {},
   "outputs": [
    {
     "data": {
      "text/plain": [
       "<AxesSubplot:xlabel='floor_category'>"
      ]
     },
     "execution_count": 27,
     "metadata": {},
     "output_type": "execute_result"
    },
    {
     "data": {
      "image/png": "[encoded data removed]",
      "text/plain": [
       "<Figure size 432x288 with 1 Axes>"
      ]
     },
     "metadata": {
      "needs_background": "light"
     },
     "output_type": "display_data"
    }
   ],
   "source": [
    "spb_objects_center.pivot_table(index='floor_category', values='last_price', aggfunc='mean').plot(kind='bar')"
   ]
  },
  {
   "cell_type": "markdown",
   "metadata": {},
   "source": [
    "В целом тренд не изменился, только масштаб стал меньше."
   ]
  },
  {
   "cell_type": "code",
   "execution_count": 31,
   "metadata": {},
   "outputs": [
    {
     "data": {
      "text/plain": [
       "<AxesSubplot:xlabel='first_day_exposition(year)'>"
      ]
     },
     "execution_count": 31,
     "metadata": {},
     "output_type": "execute_result"
    },
    {
     "data": {
      "image/png": "[encoded data removed]",
      "text/plain": [
       "<Figure size 432x288 with 1 Axes>"
      ]
     },
     "metadata": {
      "needs_background": "light"
     },
     "output_type": "display_data"
    },
    {
     "data": {
      "image/png": "[encoded data removed]",
      "text/plain": [
       "<Figure size 432x288 with 1 Axes>"
      ]
     },
     "metadata": {
      "needs_background": "light"
     },
     "output_type": "display_data"
    },
    {
     "data": {
      "image/png": "[encoded data removed]",
      "text/plain": [
       "<Figure size 432x288 with 1 Axes>"
      ]
     },
     "metadata": {
      "needs_background": "light"
     },
     "output_type": "display_data"
    }
   ],
   "source": [
    "spb_objects_center.pivot_table(index='first_day_exposition(weekday)', values='last_price', aggfunc='mean').plot(kind='bar')\n",
    "spb_objects_center.pivot_table(index='first_day_exposition(month)', values='last_price', aggfunc='mean').plot(kind='bar')\n",
    "spb_objects_center.pivot_table(index='first_day_exposition(year)', values='last_price', aggfunc='mean').plot(kind='bar')"
   ]
  },
  {
   "cell_type": "markdown",
   "metadata": {},
   "source": [
    "Самым популярным днем для размещения объявления с наивызшей ценой в разрезе региона является Суббота (далее - Четверг), а в разрезе СПб - Вторник (далее - Четверг и Суббота). В данных по всему региону месяцами с пиковой ценой были Январь, Апрель, Июль, Сентябрь, и Декабрь. Когда как в данных по СПб это Февраль, Апрель, и Август, а месяца с рекордно низкой ценой являются Май, Июнь, и Июль, которые не сильно разнятся от пиковых значений во всех данных.  Тренд цены в зависимости от года похож на тренд общих данных - наивысшая цена зафиксирована в 2014, самая же низкая в 2018. По остальным годам имеются незначительные различия."
   ]
  },
  {
   "cell_type": "markdown",
   "metadata": {},
   "source": [
    "<div class=\"alert alert-success\">\n",
    "<b>Комментарий ревьюера:</b>\n",
    "\n",
    "Кстати можно было бы сравнить центр и весь город в целом, для наглядности наших расчетов.\n",
    "    \n",
    "</div>"
   ]
  },
  {
   "cell_type": "markdown",
   "metadata": {},
   "source": [
    "## Общий вывод"
   ]
  },
  {
   "cell_type": "markdown",
   "metadata": {},
   "source": [
    "Вывод таков, что данные не относящиеся к центру СПб (включая агломерации) создают шум в данных, и проводить аналитику с такими данными для СПб не совсем правильно. Исключение данного шума было верным значением. По итогу мы имеет то, что самыми популярными для продажи квартирами являются 2-х и 3-х комнатные, высота потолков 3-3.5 м, цена до 20 млн рублей, площадь 60-90 кв.м. Последний этаж является самым дорогим (возможно это пентхаусы так влияют на среднюю цену), число комнат не сильно влияет на цену недвижимости (возможно из-за того, что в данных есть многокомнатные одноэтажные дома), расположение от центра сильно влияет на цену недвижимости. Дороже всего квартиру можно было продавать в 2014 году по Четвергам Апреля."
   ]
  },
  {
   "cell_type": "markdown",
   "metadata": {},
   "source": [
    "<div class=\"alert alert-success\">\n",
    "<b>Комментарий ревьюера:</b>\n",
    "\n",
    "Выводы понятны и логичны, а самое главное подкреплены выявленными фактами.\n",
    "       \n",
    "В целом сам проект выполнен на хорошем уровне! На протяжении всей работы чувствуется глубина проработки задачи и это безусловный плюс для нас. Было использовано большое количество методов, которые будут помогать тебе в дальнейших проектах.\n",
    "    \n",
    "    \n",
    "    \n",
    "**[общий комментарий]** Ячейки **markdown** в том числе мы можем использовать как дополнительный способ стилизации нашего проекта. Оставил ниже ссылку, с примерами стилизации.\n",
    "\n",
    "https://sqlbak.com/blog/jupyter-notebook-markdown-cheatsheet\n",
    "    \n",
    "</div>"
   ]
  },
  {
   "cell_type": "markdown",
   "metadata": {},
   "source": [
    "<div class=\"alert alert-success\">\n",
    "<b>Комментарий ревьюера:</b>\n",
    "    \n",
    "\n",
    "Возвращаю проект обратно, чтобы убедиться что все мои комментарии понятны.\n",
    "    \n",
    "Если вдруг у тебя возникнут какие-то вопросы, то я с радостью отвечу на них 😊\n",
    "    \n",
    "</div>"
   ]
  },
  {
   "cell_type": "markdown",
   "metadata": {},
   "source": [
    "<div class=\"alert alert-info\"> \n",
    "<b>Комментарий студента: </b>\n",
    "\n",
    "Спасибо, вопросов нет. Старался выполнить проект без вопросов 😊\n",
    "\n",
    "</div>"
   ]
  },
  {
   "cell_type": "markdown",
   "metadata": {},
   "source": [
    "<div class=\"alert alert-success\">\n",
    "<b>Комментарий ревьюера (2):</b>\n",
    "\n",
    "Рад, что в целом все понятно. Тогда предлагаю двигаться дальше.\n",
    "    \n",
    "Поздравляю с успешным завершением проекта 😊👍\n",
    "    \n",
    "И желаю успехов в новых работах 😊\n",
    "    \n",
    "    \n",
    "</div>"
   ]
  },
  {
   "cell_type": "markdown",
   "metadata": {},
   "source": [
    "## Чек-лист готовности проекта\n",
    "\n",
    "Поставьте 'x' в выполненных пунктах. Далее нажмите Shift+Enter."
   ]
  },
  {
   "cell_type": "markdown",
   "metadata": {},
   "source": [
    "- [x]  открыт файл\n",
    "- [ ]  файлы изучены (выведены первые строки, метод `info()`)\n",
    "- [ ]  определены пропущенные значения\n",
    "- [ ]  заполнены пропущенные значения\n",
    "- [ ]  есть пояснение, какие пропущенные значения обнаружены\n",
    "- [ ]  изменены типы данных\n",
    "- [ ]  есть пояснение, в каких столбцах изменены типы и почему\n",
    "- [ ]  посчитано и добавлено в таблицу: цена квадратного метра\n",
    "- [ ]  посчитано и добавлено в таблицу: день недели, месяц и год публикации объявления\n",
    "- [ ]  посчитано и добавлено в таблицу: этаж квартиры; варианты — первый, последний, другой\n",
    "- [ ]  посчитано и добавлено в таблицу: соотношение жилой и общей площади, а также отношение площади кухни к общей\n",
    "- [ ]  изучены следующие параметры: площадь, цена, число комнат, высота потолков\n",
    "- [ ]  построены гистограммы для каждого параметра\n",
    "- [ ]  выполнено задание: «Изучите время продажи квартиры. Постройте гистограмму. Посчитайте среднее и медиану. Опишите, сколько обычно занимает продажа. Когда можно считать, что продажи прошли очень быстро, а когда необычно долго?»\n",
    "- [ ]  выполнено задание: «Уберите редкие и выбивающиеся значения. Опишите, какие особенности обнаружили».\n",
    "- [ ]  выполнено задание: «Какие факторы больше всего влияют на стоимость квартиры? Изучите, зависит ли цена от квадратного метра, числа комнат, этажа (первого или последнего), удалённости от центра. Также изучите зависимость от даты размещения: дня недели, месяца и года». \n",
    "- [ ]  выполнено задание: «Выберите 10 населённых пунктов с наибольшим числом объявлений. Посчитайте среднюю цену квадратного метра в этих населённых пунктах. Выделите населённые пункты с самой высокой и низкой стоимостью жилья. Эти данные можно найти по имени в столбце `locality_name`».\n",
    "- [ ]  выполнено задание: «Изучите предложения квартир: для каждой квартиры есть информация о расстоянии до центра. Выделите квартиры в Санкт-Петербурге (`locality_name`). Ваша задача — выяснить, какая область входит в центр. Создайте столбец с расстоянием до центра в километрах: округлите до целых значений. После этого посчитайте среднюю цену для каждого километра. Постройте график: он должен показывать, как цена зависит от удалённости от центра. Определите границу, где график сильно меняется — это и будет центральная зона».\n",
    "- [ ]  выполнено задание: «Выделите сегмент квартир в центре. Проанализируйте эту территорию и изучите следующие параметры: площадь, цена, число комнат, высота потолков. Также выделите факторы, которые влияют на стоимость квартиры (число комнат, этаж, удалённость от центра, дата размещения объявления). Сделайте выводы. Отличаются ли они от общих выводов по всей базе?»\n",
    "- [ ]  в каждом этапе есть выводы\n",
    "- [ ]  есть общий вывод"
   ]
  }
 ],
 "metadata": {
  "ExecuteTimeLog": [
   {
    "duration": 225,
    "start_time": "2022-03-16T05:18:55.769Z"
   },
   {
    "duration": 840,
    "start_time": "2022-03-16T05:19:01.037Z"
   },
   {
    "duration": 92,
    "start_time": "2022-03-16T05:19:01.880Z"
   },
   {
    "duration": 112,
    "start_time": "2022-03-16T05:19:22.906Z"
   },
   {
    "duration": 16,
    "start_time": "2022-03-16T05:20:08.711Z"
   },
   {
    "duration": 201,
    "start_time": "2022-03-16T05:33:27.079Z"
   },
   {
    "duration": 215,
    "start_time": "2022-03-16T05:33:41.113Z"
   },
   {
    "duration": 168,
    "start_time": "2022-03-16T05:34:03.802Z"
   },
   {
    "duration": 163,
    "start_time": "2022-03-16T05:34:31.459Z"
   },
   {
    "duration": 75,
    "start_time": "2022-03-16T05:34:45.835Z"
   },
   {
    "duration": 1286,
    "start_time": "2022-03-16T05:34:59.758Z"
   },
   {
    "duration": 9,
    "start_time": "2022-03-16T05:35:19.473Z"
   },
   {
    "duration": 13,
    "start_time": "2022-03-16T05:36:09.873Z"
   },
   {
    "duration": 14,
    "start_time": "2022-03-16T05:36:22.147Z"
   },
   {
    "duration": 329,
    "start_time": "2022-03-16T05:38:08.585Z"
   },
   {
    "duration": 27,
    "start_time": "2022-03-16T05:38:22.572Z"
   },
   {
    "duration": 472,
    "start_time": "2022-03-17T06:59:25.245Z"
   },
   {
    "duration": 145,
    "start_time": "2022-03-17T06:59:26.080Z"
   },
   {
    "duration": 22,
    "start_time": "2022-03-17T06:59:27.030Z"
   },
   {
    "duration": 353,
    "start_time": "2022-03-17T06:59:29.794Z"
   },
   {
    "duration": 34,
    "start_time": "2022-03-17T06:59:30.684Z"
   },
   {
    "duration": 818,
    "start_time": "2022-03-17T06:59:32.242Z"
   },
   {
    "duration": 134,
    "start_time": "2022-03-17T07:04:16.790Z"
   },
   {
    "duration": 22,
    "start_time": "2022-03-17T07:04:17.170Z"
   },
   {
    "duration": 11,
    "start_time": "2022-03-17T07:04:29.606Z"
   },
   {
    "duration": 8,
    "start_time": "2022-03-17T07:09:05.412Z"
   },
   {
    "duration": 7,
    "start_time": "2022-03-17T07:09:14.379Z"
   },
   {
    "duration": 6,
    "start_time": "2022-03-17T07:10:09.373Z"
   },
   {
    "duration": 9,
    "start_time": "2022-03-17T07:12:16.093Z"
   },
   {
    "duration": 16,
    "start_time": "2022-03-17T07:12:41.775Z"
   },
   {
    "duration": 17,
    "start_time": "2022-03-17T07:13:00.296Z"
   },
   {
    "duration": 20,
    "start_time": "2022-03-17T07:13:15.278Z"
   },
   {
    "duration": 22,
    "start_time": "2022-03-17T07:13:28.051Z"
   },
   {
    "duration": 4,
    "start_time": "2022-03-17T07:14:36.411Z"
   },
   {
    "duration": 25,
    "start_time": "2022-03-17T07:14:43.939Z"
   },
   {
    "duration": 26,
    "start_time": "2022-03-17T07:15:37.126Z"
   },
   {
    "duration": 25,
    "start_time": "2022-03-17T07:15:53.482Z"
   },
   {
    "duration": 22,
    "start_time": "2022-03-17T07:16:02.898Z"
   },
   {
    "duration": 23,
    "start_time": "2022-03-17T07:16:27.542Z"
   },
   {
    "duration": 8,
    "start_time": "2022-03-17T07:18:23.026Z"
   },
   {
    "duration": 25,
    "start_time": "2022-03-17T07:19:49.723Z"
   },
   {
    "duration": 46,
    "start_time": "2022-03-17T07:24:09.176Z"
   },
   {
    "duration": 11,
    "start_time": "2022-03-17T07:27:35.197Z"
   },
   {
    "duration": 22,
    "start_time": "2022-03-17T07:30:02.619Z"
   },
   {
    "duration": 86,
    "start_time": "2022-03-17T07:30:09.865Z"
   },
   {
    "duration": 11,
    "start_time": "2022-03-17T07:34:41.065Z"
   },
   {
    "duration": 3,
    "start_time": "2022-03-17T07:35:06.464Z"
   },
   {
    "duration": 125,
    "start_time": "2022-03-17T07:35:06.888Z"
   },
   {
    "duration": 21,
    "start_time": "2022-03-17T07:35:07.682Z"
   },
   {
    "duration": 12,
    "start_time": "2022-03-17T07:35:11.912Z"
   },
   {
    "duration": 11,
    "start_time": "2022-03-17T07:35:14.227Z"
   },
   {
    "duration": 112,
    "start_time": "2022-03-17T07:35:42.852Z"
   },
   {
    "duration": 21,
    "start_time": "2022-03-17T07:36:12.103Z"
   },
   {
    "duration": 16,
    "start_time": "2022-03-17T07:37:41.051Z"
   },
   {
    "duration": 20,
    "start_time": "2022-03-17T07:37:49.102Z"
   },
   {
    "duration": 13,
    "start_time": "2022-03-17T07:40:06.327Z"
   },
   {
    "duration": 13,
    "start_time": "2022-03-17T07:40:50.027Z"
   },
   {
    "duration": 86,
    "start_time": "2022-03-17T07:41:00.050Z"
   },
   {
    "duration": 8,
    "start_time": "2022-03-17T07:42:32.647Z"
   },
   {
    "duration": 10,
    "start_time": "2022-03-17T07:44:43.380Z"
   },
   {
    "duration": 9,
    "start_time": "2022-03-17T07:45:03.564Z"
   },
   {
    "duration": 126,
    "start_time": "2022-03-17T07:45:49.630Z"
   },
   {
    "duration": 21,
    "start_time": "2022-03-17T07:45:50.031Z"
   },
   {
    "duration": 15,
    "start_time": "2022-03-17T07:45:51.967Z"
   },
   {
    "duration": 10,
    "start_time": "2022-03-17T07:45:52.630Z"
   },
   {
    "duration": 84,
    "start_time": "2022-03-17T07:45:53.851Z"
   },
   {
    "duration": 21,
    "start_time": "2022-03-17T07:45:58.089Z"
   },
   {
    "duration": 319,
    "start_time": "2022-03-17T07:52:13.074Z"
   },
   {
    "duration": 6,
    "start_time": "2022-03-17T07:53:28.531Z"
   },
   {
    "duration": 8,
    "start_time": "2022-03-17T07:55:55.002Z"
   },
   {
    "duration": 32,
    "start_time": "2022-03-17T07:56:11.344Z"
   },
   {
    "duration": 1357,
    "start_time": "2022-03-17T07:59:09.123Z"
   },
   {
    "duration": 1371,
    "start_time": "2022-03-17T07:59:57.083Z"
   },
   {
    "duration": 41,
    "start_time": "2022-03-17T08:10:59.081Z"
   },
   {
    "duration": 31,
    "start_time": "2022-03-17T09:49:03.626Z"
   },
   {
    "duration": 5,
    "start_time": "2022-03-17T09:56:39.907Z"
   },
   {
    "duration": 216,
    "start_time": "2022-03-17T10:00:07.929Z"
   },
   {
    "duration": 16,
    "start_time": "2022-03-17T10:00:37.549Z"
   },
   {
    "duration": 567,
    "start_time": "2022-03-17T10:06:53.343Z"
   },
   {
    "duration": 39,
    "start_time": "2022-03-17T10:07:20.231Z"
   },
   {
    "duration": 556,
    "start_time": "2022-03-17T10:08:55.359Z"
   },
   {
    "duration": 33,
    "start_time": "2022-03-17T10:08:56.292Z"
   },
   {
    "duration": 570,
    "start_time": "2022-03-17T10:11:17.792Z"
   },
   {
    "duration": 35,
    "start_time": "2022-03-17T10:11:20.117Z"
   },
   {
    "duration": 17,
    "start_time": "2022-03-17T10:31:39.235Z"
   },
   {
    "duration": 884,
    "start_time": "2022-03-17T10:32:08.498Z"
   },
   {
    "duration": 1738,
    "start_time": "2022-03-17T10:32:20.463Z"
   },
   {
    "duration": 7,
    "start_time": "2022-03-17T10:35:13.233Z"
   },
   {
    "duration": 776,
    "start_time": "2022-03-17T10:35:18.480Z"
   },
   {
    "duration": 396,
    "start_time": "2022-03-17T10:35:58.161Z"
   },
   {
    "duration": 474,
    "start_time": "2022-03-17T10:36:50.092Z"
   },
   {
    "duration": 14,
    "start_time": "2022-03-17T10:37:14.791Z"
   },
   {
    "duration": 347,
    "start_time": "2022-03-17T10:41:36.115Z"
   },
   {
    "duration": 639,
    "start_time": "2022-03-17T10:43:13.580Z"
   },
   {
    "duration": 1015,
    "start_time": "2022-03-17T10:43:43.637Z"
   },
   {
    "duration": 870,
    "start_time": "2022-03-17T10:43:54.337Z"
   },
   {
    "duration": 1192,
    "start_time": "2022-03-17T10:44:01.442Z"
   },
   {
    "duration": 1245,
    "start_time": "2022-03-17T10:44:15.457Z"
   },
   {
    "duration": 1400,
    "start_time": "2022-03-17T10:44:27.964Z"
   },
   {
    "duration": 5,
    "start_time": "2022-03-17T12:40:44.118Z"
   },
   {
    "duration": 185,
    "start_time": "2022-03-17T12:40:44.964Z"
   },
   {
    "duration": 22,
    "start_time": "2022-03-17T12:40:45.677Z"
   },
   {
    "duration": 16,
    "start_time": "2022-03-17T12:40:49.988Z"
   },
   {
    "duration": 11,
    "start_time": "2022-03-17T12:40:51.062Z"
   },
   {
    "duration": 92,
    "start_time": "2022-03-17T12:40:52.307Z"
   },
   {
    "duration": 26,
    "start_time": "2022-03-17T12:40:53.229Z"
   },
   {
    "duration": 48,
    "start_time": "2022-03-17T12:40:55.808Z"
   },
   {
    "duration": 962,
    "start_time": "2022-03-17T12:41:16.394Z"
   },
   {
    "duration": 42,
    "start_time": "2022-03-17T12:41:18.125Z"
   },
   {
    "duration": 1233,
    "start_time": "2022-03-17T12:41:35.943Z"
   },
   {
    "duration": 733,
    "start_time": "2022-03-17T12:46:23.136Z"
   },
   {
    "duration": 26,
    "start_time": "2022-03-17T12:46:48.346Z"
   },
   {
    "duration": 456,
    "start_time": "2022-03-17T12:47:12.126Z"
   },
   {
    "duration": 429,
    "start_time": "2022-03-17T12:48:37.213Z"
   },
   {
    "duration": 30,
    "start_time": "2022-03-17T12:56:03.609Z"
   },
   {
    "duration": 13,
    "start_time": "2022-03-17T12:56:26.311Z"
   },
   {
    "duration": 425,
    "start_time": "2022-03-17T12:57:14.421Z"
   },
   {
    "duration": 253,
    "start_time": "2022-03-17T13:30:48.682Z"
   },
   {
    "duration": 24,
    "start_time": "2022-03-17T13:38:13.864Z"
   },
   {
    "duration": 426,
    "start_time": "2022-03-17T13:39:52.536Z"
   },
   {
    "duration": 268,
    "start_time": "2022-03-17T13:40:53.399Z"
   },
   {
    "duration": 238,
    "start_time": "2022-03-17T13:41:13.385Z"
   },
   {
    "duration": 319,
    "start_time": "2022-03-17T13:41:36.642Z"
   },
   {
    "duration": 560,
    "start_time": "2022-03-17T13:41:59.398Z"
   },
   {
    "duration": 901,
    "start_time": "2022-03-17T13:43:42.602Z"
   },
   {
    "duration": 911,
    "start_time": "2022-03-17T13:47:33.203Z"
   },
   {
    "duration": 149,
    "start_time": "2022-03-17T13:47:34.116Z"
   },
   {
    "duration": 31,
    "start_time": "2022-03-17T13:47:34.268Z"
   },
   {
    "duration": 25,
    "start_time": "2022-03-17T13:47:34.302Z"
   },
   {
    "duration": 10,
    "start_time": "2022-03-17T13:47:34.330Z"
   },
   {
    "duration": 124,
    "start_time": "2022-03-17T13:47:34.342Z"
   },
   {
    "duration": 31,
    "start_time": "2022-03-17T13:47:34.469Z"
   },
   {
    "duration": 49,
    "start_time": "2022-03-17T13:47:34.504Z"
   },
   {
    "duration": 653,
    "start_time": "2022-03-17T13:47:34.556Z"
   },
   {
    "duration": 40,
    "start_time": "2022-03-17T13:47:35.212Z"
   },
   {
    "duration": 1244,
    "start_time": "2022-03-17T13:47:35.254Z"
   },
   {
    "duration": 432,
    "start_time": "2022-03-17T13:47:36.501Z"
   },
   {
    "duration": 457,
    "start_time": "2022-03-17T13:47:36.936Z"
   },
   {
    "duration": 895,
    "start_time": "2022-03-17T13:47:37.396Z"
   },
   {
    "duration": 294,
    "start_time": "2022-03-17T13:54:18.525Z"
   },
   {
    "duration": 1075,
    "start_time": "2022-03-17T13:59:29.590Z"
   },
   {
    "duration": 178,
    "start_time": "2022-03-17T13:59:30.668Z"
   },
   {
    "duration": 36,
    "start_time": "2022-03-17T13:59:30.849Z"
   },
   {
    "duration": 28,
    "start_time": "2022-03-17T13:59:30.888Z"
   },
   {
    "duration": 11,
    "start_time": "2022-03-17T13:59:30.918Z"
   },
   {
    "duration": 121,
    "start_time": "2022-03-17T13:59:30.931Z"
   },
   {
    "duration": 40,
    "start_time": "2022-03-17T13:59:31.054Z"
   },
   {
    "duration": 49,
    "start_time": "2022-03-17T13:59:31.096Z"
   },
   {
    "duration": 879,
    "start_time": "2022-03-17T13:59:31.148Z"
   },
   {
    "duration": 63,
    "start_time": "2022-03-17T13:59:32.031Z"
   },
   {
    "duration": 1478,
    "start_time": "2022-03-17T13:59:32.096Z"
   },
   {
    "duration": 629,
    "start_time": "2022-03-17T13:59:33.582Z"
   },
   {
    "duration": 581,
    "start_time": "2022-03-17T13:59:34.214Z"
   },
   {
    "duration": 975,
    "start_time": "2022-03-17T13:59:34.798Z"
   },
   {
    "duration": 24,
    "start_time": "2022-03-17T13:59:35.783Z"
   },
   {
    "duration": 50,
    "start_time": "2022-03-17T13:59:35.810Z"
   },
   {
    "duration": 57,
    "start_time": "2022-03-17T14:00:58.659Z"
   },
   {
    "duration": 12,
    "start_time": "2022-03-17T14:08:09.709Z"
   },
   {
    "duration": 99,
    "start_time": "2022-03-17T14:17:02.445Z"
   },
   {
    "duration": 882,
    "start_time": "2022-03-17T14:17:11.730Z"
   },
   {
    "duration": 146,
    "start_time": "2022-03-17T14:17:12.615Z"
   },
   {
    "duration": 31,
    "start_time": "2022-03-17T14:17:12.764Z"
   },
   {
    "duration": 17,
    "start_time": "2022-03-17T14:17:12.799Z"
   },
   {
    "duration": 11,
    "start_time": "2022-03-17T14:17:12.818Z"
   },
   {
    "duration": 129,
    "start_time": "2022-03-17T14:17:12.832Z"
   },
   {
    "duration": 33,
    "start_time": "2022-03-17T14:17:12.964Z"
   },
   {
    "duration": 43,
    "start_time": "2022-03-17T14:17:12.999Z"
   },
   {
    "duration": 642,
    "start_time": "2022-03-17T14:17:13.045Z"
   },
   {
    "duration": 45,
    "start_time": "2022-03-17T14:17:13.691Z"
   },
   {
    "duration": 1258,
    "start_time": "2022-03-17T14:17:13.739Z"
   },
   {
    "duration": 478,
    "start_time": "2022-03-17T14:17:15.000Z"
   },
   {
    "duration": 429,
    "start_time": "2022-03-17T14:17:15.483Z"
   },
   {
    "duration": 950,
    "start_time": "2022-03-17T14:17:15.915Z"
   },
   {
    "duration": 32,
    "start_time": "2022-03-17T14:17:16.867Z"
   },
   {
    "duration": 54,
    "start_time": "2022-03-17T14:17:16.902Z"
   },
   {
    "duration": 149,
    "start_time": "2022-03-17T14:17:16.958Z"
   },
   {
    "duration": 15,
    "start_time": "2022-03-17T14:19:51.330Z"
   },
   {
    "duration": 11,
    "start_time": "2022-03-17T14:20:32.082Z"
   },
   {
    "duration": 4403,
    "start_time": "2022-03-17T14:21:45.694Z"
   },
   {
    "duration": 45013,
    "start_time": "2022-03-17T14:22:04.566Z"
   },
   {
    "duration": 881,
    "start_time": "2022-03-17T14:26:12.131Z"
   },
   {
    "duration": 165,
    "start_time": "2022-03-17T14:26:13.015Z"
   },
   {
    "duration": 27,
    "start_time": "2022-03-17T14:26:13.183Z"
   },
   {
    "duration": 22,
    "start_time": "2022-03-17T14:26:13.214Z"
   },
   {
    "duration": 12,
    "start_time": "2022-03-17T14:26:13.238Z"
   },
   {
    "duration": 98,
    "start_time": "2022-03-17T14:26:13.288Z"
   },
   {
    "duration": 22,
    "start_time": "2022-03-17T14:26:13.395Z"
   },
   {
    "duration": 36,
    "start_time": "2022-03-17T14:26:13.419Z"
   },
   {
    "duration": 756,
    "start_time": "2022-03-17T14:26:13.457Z"
   },
   {
    "duration": 39,
    "start_time": "2022-03-17T14:26:14.217Z"
   },
   {
    "duration": 1448,
    "start_time": "2022-03-17T14:26:14.258Z"
   },
   {
    "duration": 473,
    "start_time": "2022-03-17T14:26:15.709Z"
   },
   {
    "duration": 439,
    "start_time": "2022-03-17T14:26:16.186Z"
   },
   {
    "duration": 981,
    "start_time": "2022-03-17T14:26:16.627Z"
   },
   {
    "duration": 22,
    "start_time": "2022-03-17T14:26:17.612Z"
   },
   {
    "duration": 76,
    "start_time": "2022-03-17T14:26:17.636Z"
   },
   {
    "duration": 11153,
    "start_time": "2022-03-17T14:26:17.714Z"
   },
   {
    "duration": 283,
    "start_time": "2022-03-17T14:26:54.576Z"
   },
   {
    "duration": 282,
    "start_time": "2022-03-17T14:27:05.275Z"
   },
   {
    "duration": 278,
    "start_time": "2022-03-17T14:27:15.918Z"
   },
   {
    "duration": 435,
    "start_time": "2022-03-17T14:27:25.787Z"
   },
   {
    "duration": 944,
    "start_time": "2022-03-17T15:48:31.455Z"
   },
   {
    "duration": 159,
    "start_time": "2022-03-17T15:48:32.404Z"
   },
   {
    "duration": 33,
    "start_time": "2022-03-17T15:48:32.566Z"
   },
   {
    "duration": 28,
    "start_time": "2022-03-17T15:48:32.601Z"
   },
   {
    "duration": 11,
    "start_time": "2022-03-17T15:48:32.633Z"
   },
   {
    "duration": 103,
    "start_time": "2022-03-17T15:48:32.647Z"
   },
   {
    "duration": 39,
    "start_time": "2022-03-17T15:48:32.753Z"
   },
   {
    "duration": 37,
    "start_time": "2022-03-17T15:48:32.794Z"
   },
   {
    "duration": 593,
    "start_time": "2022-03-17T15:48:32.834Z"
   },
   {
    "duration": 52,
    "start_time": "2022-03-17T15:48:33.430Z"
   },
   {
    "duration": 1188,
    "start_time": "2022-03-17T15:48:33.484Z"
   },
   {
    "duration": 446,
    "start_time": "2022-03-17T15:48:34.674Z"
   },
   {
    "duration": 488,
    "start_time": "2022-03-17T15:48:35.123Z"
   },
   {
    "duration": 928,
    "start_time": "2022-03-17T15:48:35.616Z"
   },
   {
    "duration": 39,
    "start_time": "2022-03-17T15:48:36.546Z"
   },
   {
    "duration": 48,
    "start_time": "2022-03-17T15:48:36.587Z"
   },
   {
    "duration": 294,
    "start_time": "2022-03-17T15:48:36.637Z"
   },
   {
    "duration": 9,
    "start_time": "2022-03-17T16:03:26.326Z"
   },
   {
    "duration": 15,
    "start_time": "2022-03-17T16:03:50.320Z"
   },
   {
    "duration": 103,
    "start_time": "2022-03-17T16:26:07.481Z"
   },
   {
    "duration": 60,
    "start_time": "2022-03-17T16:27:35.100Z"
   },
   {
    "duration": 271,
    "start_time": "2022-03-17T16:28:25.190Z"
   },
   {
    "duration": 65,
    "start_time": "2022-03-17T16:28:51.184Z"
   },
   {
    "duration": 86,
    "start_time": "2022-03-17T16:33:20.047Z"
   },
   {
    "duration": 288,
    "start_time": "2022-03-17T16:56:15.328Z"
   },
   {
    "duration": 379,
    "start_time": "2022-03-17T16:57:04.162Z"
   },
   {
    "duration": 292,
    "start_time": "2022-03-17T16:57:43.407Z"
   },
   {
    "duration": 364,
    "start_time": "2022-03-17T16:58:36.180Z"
   },
   {
    "duration": 286,
    "start_time": "2022-03-17T16:58:50.746Z"
   },
   {
    "duration": 911,
    "start_time": "2022-03-17T17:01:48.178Z"
   },
   {
    "duration": 149,
    "start_time": "2022-03-17T17:01:49.092Z"
   },
   {
    "duration": 38,
    "start_time": "2022-03-17T17:01:49.244Z"
   },
   {
    "duration": 23,
    "start_time": "2022-03-17T17:01:49.287Z"
   },
   {
    "duration": 12,
    "start_time": "2022-03-17T17:01:49.312Z"
   },
   {
    "duration": 122,
    "start_time": "2022-03-17T17:01:49.327Z"
   },
   {
    "duration": 30,
    "start_time": "2022-03-17T17:01:49.452Z"
   },
   {
    "duration": 52,
    "start_time": "2022-03-17T17:01:49.484Z"
   },
   {
    "duration": 665,
    "start_time": "2022-03-17T17:01:49.539Z"
   },
   {
    "duration": 46,
    "start_time": "2022-03-17T17:01:50.207Z"
   },
   {
    "duration": 1672,
    "start_time": "2022-03-17T17:01:50.256Z"
   },
   {
    "duration": 561,
    "start_time": "2022-03-17T17:01:51.931Z"
   },
   {
    "duration": 512,
    "start_time": "2022-03-17T17:01:52.495Z"
   },
   {
    "duration": 868,
    "start_time": "2022-03-17T17:01:53.010Z"
   },
   {
    "duration": 24,
    "start_time": "2022-03-17T17:01:53.883Z"
   },
   {
    "duration": 42,
    "start_time": "2022-03-17T17:01:53.910Z"
   },
   {
    "duration": 290,
    "start_time": "2022-03-17T17:01:53.983Z"
   },
   {
    "duration": 60,
    "start_time": "2022-03-17T17:01:54.275Z"
   },
   {
    "duration": 355,
    "start_time": "2022-03-17T17:01:54.337Z"
   },
   {
    "duration": 50,
    "start_time": "2022-03-18T13:15:36.489Z"
   },
   {
    "duration": 850,
    "start_time": "2022-03-18T13:15:59.274Z"
   },
   {
    "duration": 121,
    "start_time": "2022-03-18T13:16:00.126Z"
   },
   {
    "duration": 17,
    "start_time": "2022-03-18T13:16:00.249Z"
   },
   {
    "duration": 12,
    "start_time": "2022-03-18T13:16:00.268Z"
   },
   {
    "duration": 8,
    "start_time": "2022-03-18T13:16:00.282Z"
   },
   {
    "duration": 82,
    "start_time": "2022-03-18T13:16:00.292Z"
   },
   {
    "duration": 16,
    "start_time": "2022-03-18T13:16:00.375Z"
   },
   {
    "duration": 48,
    "start_time": "2022-03-18T13:16:00.393Z"
   },
   {
    "duration": 373,
    "start_time": "2022-03-18T13:16:00.443Z"
   },
   {
    "duration": 26,
    "start_time": "2022-03-18T13:16:00.817Z"
   },
   {
    "duration": 799,
    "start_time": "2022-03-18T13:16:00.845Z"
   },
   {
    "duration": 306,
    "start_time": "2022-03-18T13:16:01.646Z"
   },
   {
    "duration": 259,
    "start_time": "2022-03-18T13:16:01.954Z"
   },
   {
    "duration": 644,
    "start_time": "2022-03-18T13:16:02.216Z"
   },
   {
    "duration": 18,
    "start_time": "2022-03-18T13:16:02.861Z"
   },
   {
    "duration": 53,
    "start_time": "2022-03-18T13:16:02.881Z"
   },
   {
    "duration": 206,
    "start_time": "2022-03-18T13:16:02.936Z"
   },
   {
    "duration": 48,
    "start_time": "2022-03-18T13:16:03.144Z"
   },
   {
    "duration": 235,
    "start_time": "2022-03-18T13:16:03.193Z"
   },
   {
    "duration": 9,
    "start_time": "2022-03-18T13:16:03.431Z"
   },
   {
    "duration": 855,
    "start_time": "2022-03-18T13:19:27.623Z"
   },
   {
    "duration": 314,
    "start_time": "2022-03-18T13:32:04.545Z"
   },
   {
    "duration": 14,
    "start_time": "2022-03-18T13:32:25.283Z"
   },
   {
    "duration": 27,
    "start_time": "2022-03-18T13:32:43.496Z"
   },
   {
    "duration": 882,
    "start_time": "2022-03-19T04:39:02.036Z"
   },
   {
    "duration": 133,
    "start_time": "2022-03-19T04:39:02.920Z"
   },
   {
    "duration": 18,
    "start_time": "2022-03-19T04:39:03.054Z"
   },
   {
    "duration": 13,
    "start_time": "2022-03-19T04:39:03.074Z"
   },
   {
    "duration": 14,
    "start_time": "2022-03-19T04:39:03.089Z"
   },
   {
    "duration": 74,
    "start_time": "2022-03-19T04:39:03.105Z"
   },
   {
    "duration": 15,
    "start_time": "2022-03-19T04:39:03.181Z"
   },
   {
    "duration": 45,
    "start_time": "2022-03-19T04:39:03.198Z"
   },
   {
    "duration": 368,
    "start_time": "2022-03-19T04:39:03.244Z"
   },
   {
    "duration": 29,
    "start_time": "2022-03-19T04:39:03.614Z"
   },
   {
    "duration": 743,
    "start_time": "2022-03-19T04:39:03.646Z"
   },
   {
    "duration": 254,
    "start_time": "2022-03-19T04:39:04.391Z"
   },
   {
    "duration": 248,
    "start_time": "2022-03-19T04:39:04.647Z"
   },
   {
    "duration": 590,
    "start_time": "2022-03-19T04:39:04.897Z"
   },
   {
    "duration": 16,
    "start_time": "2022-03-19T04:39:05.489Z"
   },
   {
    "duration": 49,
    "start_time": "2022-03-19T04:39:05.506Z"
   },
   {
    "duration": 188,
    "start_time": "2022-03-19T04:39:05.557Z"
   },
   {
    "duration": 44,
    "start_time": "2022-03-19T04:39:05.747Z"
   },
   {
    "duration": 220,
    "start_time": "2022-03-19T04:39:05.793Z"
   },
   {
    "duration": 826,
    "start_time": "2022-03-19T04:39:06.015Z"
   },
   {
    "duration": 325,
    "start_time": "2022-03-19T04:39:06.843Z"
   },
   {
    "duration": 14,
    "start_time": "2022-03-19T04:39:07.170Z"
   },
   {
    "duration": 51,
    "start_time": "2022-03-19T04:39:07.186Z"
   },
   {
    "duration": 161,
    "start_time": "2022-03-19T04:53:11.737Z"
   },
   {
    "duration": 83,
    "start_time": "2022-03-19T04:53:37.818Z"
   },
   {
    "duration": 138,
    "start_time": "2022-03-19T04:54:02.992Z"
   },
   {
    "duration": 158,
    "start_time": "2022-03-19T04:54:15.645Z"
   },
   {
    "duration": 146,
    "start_time": "2022-03-19T04:54:47.804Z"
   },
   {
    "duration": 19,
    "start_time": "2022-03-19T04:57:49.015Z"
   },
   {
    "duration": 199,
    "start_time": "2022-03-19T04:58:34.342Z"
   },
   {
    "duration": 544,
    "start_time": "2022-03-19T04:59:11.845Z"
   },
   {
    "duration": 563,
    "start_time": "2022-03-19T05:00:15.199Z"
   },
   {
    "duration": 112,
    "start_time": "2022-03-29T17:53:57.770Z"
   }
  ],
  "kernelspec": {
   "display_name": "Python 3 (ipykernel)",
   "language": "python",
   "name": "python3"
  },
  "language_info": {
   "codemirror_mode": {
    "name": "ipython",
    "version": 3
   },
   "file_extension": ".py",
   "mimetype": "text/x-python",
   "name": "python",
   "nbconvert_exporter": "python",
   "pygments_lexer": "ipython3",
   "version": "3.9.5"
  },
  "toc": {
   "base_numbering": 1,
   "nav_menu": {},
   "number_sections": true,
   "sideBar": true,
   "skip_h1_title": true,
   "title_cell": "Содержание",
   "title_sidebar": "Contents",
   "toc_cell": true,
   "toc_position": {},
   "toc_section_display": true,
   "toc_window_display": true
  }
 },
 "nbformat": 4,
 "nbformat_minor": 4
}
